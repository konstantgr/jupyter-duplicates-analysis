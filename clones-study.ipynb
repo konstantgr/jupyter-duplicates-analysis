{
 "cells": [
  {
   "cell_type": "code",
   "execution_count": 1,
   "metadata": {
    "collapsed": true
   },
   "outputs": [],
   "source": [
    "from pathlib import Path\n",
    "\n",
    "from experiment import Experiment\n",
    "from utils.stat_utils import stats_to_distribution, generate_discrete_distribution, qq_plot\n",
    "from utils.data_utils import input_data_to_df, output_data_to_df\n"
   ]
  },
  {
   "cell_type": "code",
   "execution_count": 2,
   "outputs": [
    {
     "name": "stderr",
     "output_type": "stream",
     "text": [
      "999it [00:00, 1377.56it/s]\n",
      "955it [00:00, 1361.93it/s]\n"
     ]
    }
   ],
   "source": [
    "notebooks_path = Path('data/out/notebooks_1k')\n",
    "scripts_path = Path('data/out/scripts_1k')\n",
    "\n",
    "e = Experiment(\n",
    "    notebooks_folder=notebooks_path,\n",
    "    scripts_folder=scripts_path,\n",
    "    max_num=1_000\n",
    ")\n",
    "\n",
    "min_clone_length, max_clone_length = 3, 90\n",
    "e.run(normalize=False, drop_breaks=False, length_range=range(3, max_clone_length + 1))\n",
    "\n"
   ],
   "metadata": {
    "collapsed": false
   }
  },
  {
   "cell_type": "code",
   "execution_count": 3,
   "outputs": [],
   "source": [
    "xk_n, pk_n = stats_to_distribution(e.aggregated_stats.get('notebooks'))\n",
    "xk_s, pk_s = stats_to_distribution(e.aggregated_stats.get('scripts'))\n",
    "\n",
    "dist_notebooks = generate_discrete_distribution(xk_n, pk_n)\n",
    "dist_scripts = generate_discrete_distribution(xk_s, pk_s)\n"
   ],
   "metadata": {
    "collapsed": false
   }
  },
  {
   "cell_type": "code",
   "execution_count": 4,
   "outputs": [
    {
     "name": "stdout",
     "output_type": "stream",
     "text": [
      "0.97-Quantile of scripts distribution is 45\n",
      "0.97-Quantile of notebooks distribution is 64\n"
     ]
    },
    {
     "data": {
      "text/plain": "<Figure size 350.394x350.394 with 1 Axes>",
      "image/png": "[encoded data removed]"
     },
     "metadata": {},
     "output_type": "display_data"
    }
   ],
   "source": [
    "qq_plot(dist_n=dist_notebooks, dist_s=dist_scripts, save_path=Path('figures/'))\n"
   ],
   "metadata": {
    "collapsed": false
   }
  },
  {
   "cell_type": "markdown",
   "source": [
    "# Data Example"
   ],
   "metadata": {
    "collapsed": false
   }
  },
  {
   "cell_type": "markdown",
   "source": [
    "# Input data"
   ],
   "metadata": {
    "collapsed": false
   }
  },
  {
   "cell_type": "code",
   "execution_count": 5,
   "outputs": [
    {
     "data": {
      "text/plain": "                                                name  \\\n0  3582eeba6798c34dc5b59e6ccbc28eaf1b4d40d4.ipynb.py   \n1  6602a6d2422e55f1ab4f2395d04e22ad2eaa9bd3.ipynb.py   \n2  640cf9e76c5d4524ecdf43e1c7174335827ebee0.ipynb.py   \n3  702dce9b726b46301a7f2861c4a346c8b1178048.ipynb.py   \n4  e012924ca6264514748d3e415f0af6e3e123f968.ipynb.py   \n\n                                             content  \n0  import xarray as xr\\nimport xclim as xc\\n# [__...  \n1  %matplotlib inline\\nimport sys, os\\nimport cop...  \n2  iplot(gen_rabi_elem(tau=500e-9, mw_amp=1.5, mw...  \n3  import hatchet as ht\\n# [___CELL_SEPARATOR___]...  \n4  #linear_model.LarsCV([fit_intercept, …]) \\n\\nf...  ",
      "text/html": "<div>\n<style scoped>\n    .dataframe tbody tr th:only-of-type {\n        vertical-align: middle;\n    }\n\n    .dataframe tbody tr th {\n        vertical-align: top;\n    }\n\n    .dataframe thead th {\n        text-align: right;\n    }\n</style>\n<table border=\"1\" class=\"dataframe\">\n  <thead>\n    <tr style=\"text-align: right;\">\n      <th></th>\n      <th>name</th>\n      <th>content</th>\n    </tr>\n  </thead>\n  <tbody>\n    <tr>\n      <th>0</th>\n      <td>3582eeba6798c34dc5b59e6ccbc28eaf1b4d40d4.ipynb.py</td>\n      <td>import xarray as xr\\nimport xclim as xc\\n# [__...</td>\n    </tr>\n    <tr>\n      <th>1</th>\n      <td>6602a6d2422e55f1ab4f2395d04e22ad2eaa9bd3.ipynb.py</td>\n      <td>%matplotlib inline\\nimport sys, os\\nimport cop...</td>\n    </tr>\n    <tr>\n      <th>2</th>\n      <td>640cf9e76c5d4524ecdf43e1c7174335827ebee0.ipynb.py</td>\n      <td>iplot(gen_rabi_elem(tau=500e-9, mw_amp=1.5, mw...</td>\n    </tr>\n    <tr>\n      <th>3</th>\n      <td>702dce9b726b46301a7f2861c4a346c8b1178048.ipynb.py</td>\n      <td>import hatchet as ht\\n# [___CELL_SEPARATOR___]...</td>\n    </tr>\n    <tr>\n      <th>4</th>\n      <td>e012924ca6264514748d3e415f0af6e3e123f968.ipynb.py</td>\n      <td>#linear_model.LarsCV([fit_intercept, …]) \\n\\nf...</td>\n    </tr>\n  </tbody>\n</table>\n</div>"
     },
     "execution_count": 5,
     "metadata": {},
     "output_type": "execute_result"
    }
   ],
   "source": [
    "input_ntb_df = input_data_to_df(Path('data/in/notebooks_1k'))\n",
    "input_ntb_df.head()\n"
   ],
   "metadata": {
    "collapsed": false
   }
  },
  {
   "cell_type": "code",
   "execution_count": 6,
   "outputs": [
    {
     "name": "stdout",
     "output_type": "stream",
     "text": [
      "import xarray as xr\n",
      "import xclim as xc\n",
      "# [___CELL_SEPARATOR___]\n",
      "tasmax = xr.tutorial.open_dataset('air_temperature').air.resample(time='D').max(keep_attrs=True)\n",
      "tasmax = tasmax.where(tasmax.time.dt.day % 10 != 0)\n",
      "# [___CELL_SEPARATOR___]\n",
      "tx_mean = xc.atmos.tx_mean(tasmax=tasmax, freq='MS') # compute monthly max tasmax\n",
      "# [___CELL_SEPARATOR___]\n",
      "xc.set_options(cf_compliance='log')\n",
      "\n",
      "tx_mean = xc.atmos.tx_mean(tasmax=tasmax, freq='MS') # compute monthly max tasmax\n",
      "# [___CELL_SEPARATOR___]\n",
      "xc.set_options(check_missing='pct', missing_options={'pct': {'tolerance': 0.08}})\n",
      "\n",
      "tx_mean = xc.atmos.tx_mean(tasmax=tasmax, freq='MS') # compute monthly max tasmax\n",
      "tx_mean.sel(time='2013', lat=75, lon=200)\n",
      "# [___CELL_SEPARATOR___]\n",
      "with xc.set_options(check_missing=\"wmo\"):\n",
      "    tx_mean = xc.atmos.tx_mean(tasmax=tasmax, freq='MS') # compute monthly max tasmax\n",
      "tx_mean.sel(time='2013', lat=75, lon=200)\n",
      "# [___CELL_SEPARATOR___]\n",
      "from xclim.core.missing import register_missing_method\n",
      "from xclim.core.missing import MissingBase\n",
      "from xclim.indices.run_length import longest_run\n",
      "\n",
      "@register_missing_method(\"consecutive\")\n",
      "class MissingConsecutive(MissingBase):\n",
      "    \"\"\"Any period with more than max_n consecutive missing values is considered invalid\"\"\"\n",
      "    def is_missing(self, null, count, max_n=5):\n",
      "        return null.map(longest_run, dim=\"time\") >= max_n\n",
      "\n",
      "    @staticmethod\n",
      "    def validate(max_n):\n",
      "        return max_n > 0\n",
      "\n",
      "# [___CELL_SEPARATOR___]\n",
      "with xc.set_options(check_missing=\"consecutive\", missing_options={'consecutive': {'max_n': 2}}):\n",
      "    tx_mean = xc.atmos.tx_mean(tasmax=tasmax, freq='MS') # compute monthly max tasmax\n",
      "tx_mean.sel(time='2013', lat=75, lon=200)\n"
     ]
    }
   ],
   "source": [
    "print(input_ntb_df.content.iloc[0])\n"
   ],
   "metadata": {
    "collapsed": false
   }
  },
  {
   "cell_type": "markdown",
   "source": [
    "# Output data"
   ],
   "metadata": {
    "collapsed": false
   }
  },
  {
   "cell_type": "code",
   "execution_count": 7,
   "outputs": [
    {
     "data": {
      "text/plain": "   totalGroups  totalClones  \\\n0           35          102   \n1           15           38   \n2            3           11   \n3          184          589   \n4            0            0   \n\n                                              groups  \\\n0  [{'clone_length': 14, 'clones': [{'psi': '[Psi...   \n1  [{'clone_length': 2, 'clones': [{'psi': '[PsiE...   \n2  [{'clone_length': 3, 'clones': [{'psi': '[PsiE...   \n3  [{'clone_length': 3, 'clones': [{'psi': '[PsiE...   \n4                                                 []   \n\n                                                name  \n0  537f25f0f5d7e58d0fd2ae40c55dbae47771081a#537f2...  \n1  5f835d1ac0fed0728bb12c5d4cee65df81fa57a5#5f835...  \n2  79467a65bdda2bbbe6a878cca4447f5038d5c903#79467...  \n3  745ae92a5cdf72e2a75fcf4f09c1b1d52824923b#745ae...  \n4  c38feb09d567b2f76802c58199a82b4776c0be3d#c38fe...  ",
      "text/html": "<div>\n<style scoped>\n    .dataframe tbody tr th:only-of-type {\n        vertical-align: middle;\n    }\n\n    .dataframe tbody tr th {\n        vertical-align: top;\n    }\n\n    .dataframe thead th {\n        text-align: right;\n    }\n</style>\n<table border=\"1\" class=\"dataframe\">\n  <thead>\n    <tr style=\"text-align: right;\">\n      <th></th>\n      <th>totalGroups</th>\n      <th>totalClones</th>\n      <th>groups</th>\n      <th>name</th>\n    </tr>\n  </thead>\n  <tbody>\n    <tr>\n      <th>0</th>\n      <td>35</td>\n      <td>102</td>\n      <td>[{'clone_length': 14, 'clones': [{'psi': '[Psi...</td>\n      <td>537f25f0f5d7e58d0fd2ae40c55dbae47771081a#537f2...</td>\n    </tr>\n    <tr>\n      <th>1</th>\n      <td>15</td>\n      <td>38</td>\n      <td>[{'clone_length': 2, 'clones': [{'psi': '[PsiE...</td>\n      <td>5f835d1ac0fed0728bb12c5d4cee65df81fa57a5#5f835...</td>\n    </tr>\n    <tr>\n      <th>2</th>\n      <td>3</td>\n      <td>11</td>\n      <td>[{'clone_length': 3, 'clones': [{'psi': '[PsiE...</td>\n      <td>79467a65bdda2bbbe6a878cca4447f5038d5c903#79467...</td>\n    </tr>\n    <tr>\n      <th>3</th>\n      <td>184</td>\n      <td>589</td>\n      <td>[{'clone_length': 3, 'clones': [{'psi': '[PsiE...</td>\n      <td>745ae92a5cdf72e2a75fcf4f09c1b1d52824923b#745ae...</td>\n    </tr>\n    <tr>\n      <th>4</th>\n      <td>0</td>\n      <td>0</td>\n      <td>[]</td>\n      <td>c38feb09d567b2f76802c58199a82b4776c0be3d#c38fe...</td>\n    </tr>\n  </tbody>\n</table>\n</div>"
     },
     "execution_count": 7,
     "metadata": {},
     "output_type": "execute_result"
    }
   ],
   "source": [
    "output_ntb_df = output_data_to_df(Path('data/out/notebooks_1k'))\n",
    "output_ntb_df.head()\n"
   ],
   "metadata": {
    "collapsed": false
   }
  },
  {
   "cell_type": "code",
   "execution_count": 8,
   "outputs": [
    {
     "data": {
      "text/plain": "{'psi': '[PsiElement(Py:IDENTIFIER), PsiElement(Py:EQ), PsiElement(Py:IDENTIFIER), PsiElement(Py:DOT), PsiElement(Py:IDENTIFIER), PsiElement(Py:LPAR), PsiElement(Py:IDENTIFIER), PsiElement(Py:EQ), PsiElement(Py:INTEGER_LITERAL), PsiElement(Py:RPAR), PsiElement(Py:RPAR), PsiElement(Py:IDENTIFIER), PsiElement(Py:LPAR), PsiElement(Py:IDENTIFIER)]',\n 'text': 'options=Optim.Options(iterations=10))\\nprint(o',\n 'position': [2848, 2892]}"
     },
     "execution_count": 8,
     "metadata": {},
     "output_type": "execute_result"
    }
   ],
   "source": [
    "output_ntb_df.groups.iloc[0][0]['clones'][0]\n"
   ],
   "metadata": {
    "collapsed": false
   }
  },
  {
   "cell_type": "code",
   "execution_count": 36,
   "outputs": [],
   "source": [],
   "metadata": {
    "collapsed": false
   }
  }
 ],
 "metadata": {
  "kernelspec": {
   "display_name": "Python 3",
   "language": "python",
   "name": "python3"
  },
  "language_info": {
   "codemirror_mode": {
    "name": "ipython",
    "version": 2
   },
   "file_extension": ".py",
   "mimetype": "text/x-python",
   "name": "python",
   "nbconvert_exporter": "python",
   "pygments_lexer": "ipython2",
   "version": "2.7.6"
  }
 },
 "nbformat": 4,
 "nbformat_minor": 0
}
